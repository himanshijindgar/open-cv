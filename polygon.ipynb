{
  "nbformat": 4,
  "nbformat_minor": 0,
  "metadata": {
    "colab": {
      "name": "polygon.ipynb",
      "version": "0.3.2",
      "provenance": []
    },
    "kernelspec": {
      "name": "python3",
      "display_name": "Python 3"
    }
  },
  "cells": [
    {
      "metadata": {
        "id": "5E10YVSlEJIf",
        "colab_type": "text"
      },
      "cell_type": "markdown",
      "source": [
        "**TO DISPLAY A POLYGON**"
      ]
    },
    {
      "metadata": {
        "id": "Jrcm3AZ7EHpz",
        "colab_type": "code",
        "colab": {}
      },
      "cell_type": "code",
      "source": [
        "import cv2\n",
        "import numpy as np"
      ],
      "execution_count": 0,
      "outputs": []
    },
    {
      "metadata": {
        "id": "EM_JaZfSERkw",
        "colab_type": "code",
        "colab": {}
      },
      "cell_type": "code",
      "source": [
        "img2 = np.zeros((512,512,3), np.uint8)\n",
        "\n",
        "pts = np.array([[10,50], [400,50], [90,200], [50,500]], np.int32)\n",
        "cv2.polylines(img2, [pts], True, (0,255,0),3)\n",
        "\n",
        "cv2.imshow('polygon', img2) \n",
        "cv2.waitKey(0)\n",
        "cv2.destroyAllWindows()"
      ],
      "execution_count": 0,
      "outputs": []
    }
  ]
}