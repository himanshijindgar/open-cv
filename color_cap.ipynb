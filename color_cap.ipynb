{
  "nbformat": 4,
  "nbformat_minor": 0,
  "metadata": {
    "colab": {
      "name": "color_cap.ipynb",
      "version": "0.3.2",
      "provenance": []
    },
    "kernelspec": {
      "name": "python3",
      "display_name": "Python 3"
    }
  },
  "cells": [
    {
      "metadata": {
        "id": "_gQclJnzJCsH",
        "colab_type": "text"
      },
      "cell_type": "markdown",
      "source": [
        "**COLOR CAPTURING**"
      ]
    },
    {
      "metadata": {
        "id": "6CqVJQ7jI95d",
        "colab_type": "code",
        "colab": {}
      },
      "cell_type": "code",
      "source": [
        "import cv2\n",
        "import numpy as np\n",
        "import urllib.request\n",
        "import os, sys\n",
        "from os import listdir\n",
        "from os.path import isfile, join"
      ],
      "execution_count": 0,
      "outputs": []
    },
    {
      "metadata": {
        "id": "_jVbKwmGJCSV",
        "colab_type": "code",
        "colab": {}
      },
      "cell_type": "code",
      "source": [
        "device = cv2.VideoCapture(0)\n",
        "\n",
        "while True:\n",
        "    ret, frame = device.read()\n",
        "    hsv = cv2.cvtColor(frame, cv2.COLOR_BGR2HSV)\n",
        "    lower_range_blue = np.array([30,150,50])\n",
        "    upper_range_blue = np.array([255,255,180])\n",
        "    mask1 = cv2.inRange(hsv, lower_range_blue, upper_range_blue)\n",
        "    \n",
        "    cv2.imshow(\"show\", frame)\n",
        "    cv2.imshow(\"mask\", mask1)\n",
        "    result1 = cv2.bitwise_and(frame, frame, mask=mask1)\n",
        "    cv2.imshow(\"show2\", result1)\n",
        "    \n",
        "    if cv2.waitKey(1) == 13:\n",
        "        break\n",
        "        \n",
        "device.release()\n",
        "cv2.destroyAllWindows()"
      ],
      "execution_count": 0,
      "outputs": []
    }
  ]
}