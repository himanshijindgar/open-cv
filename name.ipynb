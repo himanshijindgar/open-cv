{
  "nbformat": 4,
  "nbformat_minor": 0,
  "metadata": {
    "colab": {
      "name": "name.ipynb",
      "version": "0.3.2",
      "provenance": []
    },
    "kernelspec": {
      "name": "python3",
      "display_name": "Python 3"
    }
  },
  "cells": [
    {
      "metadata": {
        "id": "iealpoygEh16",
        "colab_type": "text"
      },
      "cell_type": "markdown",
      "source": [
        "**TO DISPLAY A NAME**"
      ]
    },
    {
      "metadata": {
        "id": "P_UPQyykEf2e",
        "colab_type": "code",
        "colab": {}
      },
      "cell_type": "code",
      "source": [
        "import cv2\n",
        "import numpy as np"
      ],
      "execution_count": 0,
      "outputs": []
    },
    {
      "metadata": {
        "id": "Tmc6y1bWEn2Z",
        "colab_type": "code",
        "colab": {}
      },
      "cell_type": "code",
      "source": [
        "img3 = np.zeros((512,512,3), np.uint8)\n",
        "\n",
        "cv2.putText(img3, 'Himanshi', (55,290), cv2.FONT_HERSHEY_COMPLEX, 2, (100, 170,0), 3)\n",
        "\n",
        "cv2.imshow('polygon', img3) \n",
        "cv2.waitKey(0)\n",
        "cv2.destroyAllWindows()"
      ],
      "execution_count": 0,
      "outputs": []
    }
  ]
}