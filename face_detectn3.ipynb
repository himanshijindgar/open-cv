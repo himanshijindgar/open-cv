{
  "nbformat": 4,
  "nbformat_minor": 0,
  "metadata": {
    "colab": {
      "name": "face_detectn3.ipynb",
      "version": "0.3.2",
      "provenance": []
    },
    "kernelspec": {
      "name": "python3",
      "display_name": "Python 3"
    }
  },
  "cells": [
    {
      "metadata": {
        "id": "cIUP38DMLyRQ",
        "colab_type": "text"
      },
      "cell_type": "markdown",
      "source": [
        "**FACE DETECTION TRAINING PART - 2**"
      ]
    },
    {
      "metadata": {
        "id": "KssQ-6Q2LZwE",
        "colab_type": "code",
        "colab": {}
      },
      "cell_type": "code",
      "source": [
        "import cv2\n",
        "import numpy as np\n",
        "import urllib.request\n",
        "import os, sys\n",
        "from os import listdir\n",
        "from os.path import isfile, join"
      ],
      "execution_count": 0,
      "outputs": []
    },
    {
      "metadata": {
        "id": "5MzjGo6WLdrT",
        "colab_type": "code",
        "colab": {}
      },
      "cell_type": "code",
      "source": [
        "data_path = 'C:/Users/Ashish/Pictures/'\n",
        "\n",
        "onlyfiles = [f for f in listdir(data_path) if isfile(join(data_path,f))]\n",
        "\n",
        "\n",
        "Training_Data, Labels = [], []\n",
        "\n",
        "\n",
        "for i, files in enumerate(onlyfiles):\n",
        "\n",
        "    image_path = data_path + onlyfiles[i]\n",
        "\n",
        "    images = cv2.imread(image_path, cv2.IMREAD_GRAYSCALE)\n",
        "\n",
        "    Training_Data.append(np.asarray(images))\n",
        "    #arr = np.asarray(bytearray(req.read()), dtype = np.uint8)\n",
        "\n",
        "    Labels.append(i)\n",
        "\n",
        "\n",
        "Labels = np.asarray(Labels, dtype=np.int32)\n",
        "\n",
        "\n",
        "model = cv2.fisherRecognizer()        # DOES NOT WORK\n",
        "\n",
        "\n",
        "model.train(np.asarray(Training_Data), np.asarray(Labels))\n",
        "\n",
        "\n",
        "print(\"Model Training Complete!!!!!\")"
      ],
      "execution_count": 0,
      "outputs": []
    }
  ]
}