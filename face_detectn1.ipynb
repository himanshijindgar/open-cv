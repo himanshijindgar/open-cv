{
  "nbformat": 4,
  "nbformat_minor": 0,
  "metadata": {
    "colab": {
      "name": "face_detectn1.ipynb",
      "version": "0.3.2",
      "provenance": []
    },
    "kernelspec": {
      "name": "python3",
      "display_name": "Python 3"
    }
  },
  "cells": [
    {
      "metadata": {
        "id": "nKo9TfNWJwHX",
        "colab_type": "text"
      },
      "cell_type": "markdown",
      "source": [
        "**FACE DETECTION TRAINING THE MODEL**"
      ]
    },
    {
      "metadata": {
        "id": "Z-VdrolRJvl_",
        "colab_type": "code",
        "colab": {}
      },
      "cell_type": "code",
      "source": [
        "import cv2\n",
        "import numpy as np\n",
        "import urllib.request\n",
        "import os, sys\n",
        "from os import listdir\n",
        "from os.path import isfile, join"
      ],
      "execution_count": 0,
      "outputs": []
    },
    {
      "metadata": {
        "id": "pvR4b8WYJZ-8",
        "colab_type": "code",
        "colab": {}
      },
      "cell_type": "code",
      "source": [
        "cap = cv2.VideoCapture(0)\n",
        "count = 0\n",
        "\n",
        "face_classifier = cv2.CascadeClassifier('C:/Users/Ashish/Anaconda3/Lib/site-packages/cv2/data/haarcascade_frontalface_default.xml')\n",
        "\n",
        "\n",
        "def face_extractor(img):\n",
        "\n",
        "    gray = cv2.cvtColor(img,cv2.COLOR_BGR2GRAY)\n",
        "    faces = face_classifier.detectMultiScale(gray,1.3,5)\n",
        "\n",
        "    if faces is():\n",
        "        return None\n",
        "\n",
        "    for(x,y,w,h) in faces:\n",
        "        cropped_face = img[y:y+h, x:x+w]\n",
        "\n",
        "    return cropped_face\n",
        "\n",
        "\n",
        "\n",
        "\n",
        "while True:\n",
        "    ret, frame = cap.read()\n",
        "    if face_extractor(frame) is not None:\n",
        "        count+=1\n",
        "        face = cv2.resize(face_extractor(frame),(200,200))\n",
        "        face = cv2.cvtColor(face, cv2.COLOR_BGR2GRAY)\n",
        "\n",
        "        file_name_path = 'C:/Users/Ashish/Pictures/python/user'+str(count)+'.jpg'\n",
        "        cv2.imwrite(file_name_path,face)\n",
        "\n",
        "        cv2.putText(face,str(count),(50,50),cv2.FONT_HERSHEY_COMPLEX,1,(0,255,0),2)\n",
        "        cv2.imshow('Face Cropper',face)\n",
        "    else:\n",
        "        print(\"Face not Found\")\n",
        "        pass\n",
        "\n",
        "    if cv2.waitKey(1)==13 or count==100:\n",
        "        break\n",
        "\n",
        "cap.release()\n",
        "cv2.destroyAllWindows()\n",
        "print(\"Model Training Complete!!!!!\")"
      ],
      "execution_count": 0,
      "outputs": []
    }
  ]
}