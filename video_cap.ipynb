{
  "nbformat": 4,
  "nbformat_minor": 0,
  "metadata": {
    "colab": {
      "name": "video_cap.ipynb",
      "version": "0.3.2",
      "provenance": []
    },
    "kernelspec": {
      "name": "python3",
      "display_name": "Python 3"
    }
  },
  "cells": [
    {
      "metadata": {
        "id": "QVBb_CcnIeA8",
        "colab_type": "text"
      },
      "cell_type": "markdown",
      "source": [
        "**VIDEO CAPTURE**"
      ]
    },
    {
      "metadata": {
        "id": "KlKN2ruRIelB",
        "colab_type": "code",
        "colab": {}
      },
      "cell_type": "code",
      "source": [
        "import cv2\n",
        "import numpy as np\n",
        "import urllib.request\n",
        "import os, sys\n",
        "from os import listdir\n",
        "from os.path import isfile, join"
      ],
      "execution_count": 0,
      "outputs": []
    },
    {
      "metadata": {
        "id": "pR7Ji-WHII9F",
        "colab_type": "code",
        "colab": {}
      },
      "cell_type": "code",
      "source": [
        "#gaussian blur smoothens\n",
        "#threshold conerts gray to binary\n",
        "\n",
        "def sketch(image):\n",
        "    #converts to gray\n",
        "    img_gray = cv2.cvtColor(image, cv2.COLOR_BGR2GRAY)\n",
        "    \n",
        "    #cleanup image using gaussian blur\n",
        "    img_gray_blur = cv2.GaussianBlur(img_gray,(5,5), 0)\n",
        "    \n",
        "    #extract edges\n",
        "    canny_edges = cv2.Canny(img_gray_blur, 10, 70)\n",
        "    \n",
        "    #do an invert binarize the image\n",
        "    ret, mask = cv2.threshold(canny_edges, 70, 255, cv2.THRESH_BINARY_INV)\n",
        "    return mask\n",
        "\n",
        "cap = cv2.VideoCapture(0)\n",
        "while True:\n",
        "    ret, frame = cap.read()\n",
        "    cv2.imshow('Our live sketch1', frame)\n",
        "    cv2.imshow('Our live sketch2', sketch(frame))\n",
        "    if cv2.waitKey(1) == 13:                          # 13 = ASCII value of enter \n",
        "        break\n",
        "        \n",
        "cap.release()\n",
        "cv2.destroyAllWindows()"
      ],
      "execution_count": 0,
      "outputs": []
    }
  ]
}