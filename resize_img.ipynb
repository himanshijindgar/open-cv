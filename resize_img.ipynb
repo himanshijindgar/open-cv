{
  "nbformat": 4,
  "nbformat_minor": 0,
  "metadata": {
    "colab": {
      "name": "resize_img.ipynb",
      "version": "0.3.2",
      "provenance": []
    },
    "kernelspec": {
      "name": "python3",
      "display_name": "Python 3"
    }
  },
  "cells": [
    {
      "metadata": {
        "id": "W5vNvWcTGBAt",
        "colab_type": "text"
      },
      "cell_type": "markdown",
      "source": [
        "**TO RESIZE AN IMAGE**"
      ]
    },
    {
      "metadata": {
        "id": "BoFlBnKqGGCn",
        "colab_type": "code",
        "colab": {}
      },
      "cell_type": "code",
      "source": [
        "import cv2\n",
        "import numpy as np\n",
        "import urllib.request"
      ],
      "execution_count": 0,
      "outputs": []
    },
    {
      "metadata": {
        "id": "jdt2Y3yQF6Uy",
        "colab_type": "code",
        "colab": {}
      },
      "cell_type": "code",
      "source": [
        "img = cv2.imread(\"C:/Users/Ashish/Pictures/friends.jpeg\")\n",
        "cv2.imshow('Original', img)\n",
        "cv2.waitKey(0)\n",
        "\n",
        "img_scaled = cv2.resize(img,None, fx=0.75, fy=0.75)\n",
        "cv2.imshow('Scaling-Linear interpolation', img_scaled)\n",
        "cv2.waitKey(0)\n",
        "\n",
        "img_scaled1 = cv2.resize(img, None, fx=2, fy=2)\n",
        "cv2.imshow('Scaling-Cubic interpolation', img_scaled1)\n",
        "cv2.waitKey(0)\n",
        "\n",
        "img_scaled2 = cv2.resize(img, (900,400))\n",
        "cv2.imshow('Scaling-skewed size', img_scaled2)\n",
        "cv2.waitKey(0)\n",
        "\n",
        "cv2.destroyAllWindows()"
      ],
      "execution_count": 0,
      "outputs": []
    }
  ]
}