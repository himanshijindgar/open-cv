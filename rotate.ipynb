{
  "nbformat": 4,
  "nbformat_minor": 0,
  "metadata": {
    "colab": {
      "name": "rotate.ipynb",
      "version": "0.3.2",
      "provenance": []
    },
    "kernelspec": {
      "name": "python3",
      "display_name": "Python 3"
    }
  },
  "cells": [
    {
      "metadata": {
        "id": "Sf_8NyC0FUTo",
        "colab_type": "text"
      },
      "cell_type": "markdown",
      "source": [
        "**TO ROTATE AN IMAGE**"
      ]
    },
    {
      "metadata": {
        "id": "fWbRDQUKFTp3",
        "colab_type": "code",
        "colab": {}
      },
      "cell_type": "code",
      "source": [
        "import cv2\n",
        "import numpy as np"
      ],
      "execution_count": 0,
      "outputs": []
    },
    {
      "metadata": {
        "id": "Ol-s2AKoFRSL",
        "colab_type": "code",
        "colab": {}
      },
      "cell_type": "code",
      "source": [
        "img = cv2.imread(\"C:/Users/Ashish/Pictures/friends.jpeg\")\n",
        "\n",
        "rot_matrix = cv2.getRotationMatrix2D((width/2.7, height/2.7), 70, .65)\n",
        "rot_img = cv2.warpAffine(img, rot_matrix, (width, height))\n",
        "\n",
        "cv2.imshow('Rotated', rot_img)\n",
        "cv2.waitKey(0)\n",
        "cv2.destroyAllWindows()"
      ],
      "execution_count": 0,
      "outputs": []
    }
  ]
}