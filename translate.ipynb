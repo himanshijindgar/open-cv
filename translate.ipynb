{
  "nbformat": 4,
  "nbformat_minor": 0,
  "metadata": {
    "colab": {
      "name": "translate.ipynb",
      "version": "0.3.2",
      "provenance": []
    },
    "kernelspec": {
      "name": "python3",
      "display_name": "Python 3"
    }
  },
  "cells": [
    {
      "metadata": {
        "id": "J7wI5SCDE-xm",
        "colab_type": "text"
      },
      "cell_type": "markdown",
      "source": [
        "**TO TRANSLATE AN IMAGE**"
      ]
    },
    {
      "metadata": {
        "id": "blfMzV7XE01M",
        "colab_type": "code",
        "colab": {}
      },
      "cell_type": "code",
      "source": [
        "import cv2\n",
        "import numpy as np"
      ],
      "execution_count": 0,
      "outputs": []
    },
    {
      "metadata": {
        "id": "_R2zeuGoE_y-",
        "colab_type": "code",
        "colab": {}
      },
      "cell_type": "code",
      "source": [
        "img = cv2.imread(\"C:/Users/Ashish/Pictures/friends.jpeg\")\n",
        "height, width = img.shape[:2]\n",
        "print(height, width)\n",
        "\n",
        "quarter_height, quarter_width = height/4, width/4\n",
        "print(quarter_height, quarter_width)\n",
        "\n",
        "T = np.float32([[1, 0, quarter_width],\n",
        "               [0, 1, quarter_height]])\n",
        "print(T)\n",
        "\n",
        "img_trans = cv2.warpAffine(img, T, (width, height))\n",
        "\n",
        "cv2.imshow('image1', img)\n",
        "cv2.imshow('Translated', img_trans)\n",
        "cv2.waitKey(0)\n",
        "cv2.destroyAllWindows()"
      ],
      "execution_count": 0,
      "outputs": []
    }
  ]
}