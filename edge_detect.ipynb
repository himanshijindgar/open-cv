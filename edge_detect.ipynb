{
  "nbformat": 4,
  "nbformat_minor": 0,
  "metadata": {
    "colab": {
      "name": "edge_detect.ipynb",
      "version": "0.3.2",
      "provenance": []
    },
    "kernelspec": {
      "name": "python3",
      "display_name": "Python 3"
    }
  },
  "cells": [
    {
      "metadata": {
        "id": "z-K6SYazH2j_",
        "colab_type": "text"
      },
      "cell_type": "markdown",
      "source": [
        "**EDGE DETECTION**"
      ]
    },
    {
      "metadata": {
        "id": "ubip5aazHgeo",
        "colab_type": "code",
        "colab": {}
      },
      "cell_type": "code",
      "source": [
        "import cv2\n",
        "import numpy as np\n",
        "import urllib.request\n",
        "import os, sys\n",
        "from os import listdir\n",
        "from os.path import isfile, join"
      ],
      "execution_count": 0,
      "outputs": []
    },
    {
      "metadata": {
        "id": "bv77CenIHrsL",
        "colab_type": "code",
        "colab": {}
      },
      "cell_type": "code",
      "source": [
        "# sobel, laplacian, canny : kernals or operators\n",
        "\n",
        "img = cv2.imread(\"C:/Users/Ashish/Pictures/friends.jpeg\",0)\n",
        "height, width = img.shape\n",
        "#sobel extracts components of x and y, separately\n",
        "sobel_x = cv2.Sobel(img, cv2.CV_8U, 1, 0, ksize=5)\n",
        "sobel_y = cv2.Sobel(img, cv2.CV_8U, 0, 1, ksize=5)\n",
        "\n",
        "cv2.imshow('Original', img)\n",
        "cv2.waitKey(0)\n",
        "\n",
        "cv2.imshow('Sobel X image', sobel_x)\n",
        "cv2.waitKey(0)\n",
        "\n",
        "cv2.imshow('Sobel Y image', sobel_y)\n",
        "cv2.waitKey(0)\n",
        "\n",
        "sobel_Or = cv2.bitwise_or(sobel_x, sobel_y)\n",
        "cv2.imshow('Sobel or Image', sobel_Or)\n",
        "\n",
        "\n",
        "# laplacian covers full x and y\n",
        "laplacian = cv2.Laplacian(img, cv2.CV_8U)\n",
        "cv2.imshow('Laplacian Image', laplacian)\n",
        "cv2.waitKey(0)\n",
        "\n",
        "#using canny, it is the most effective one, it uses gradiant values as threshold\n",
        "canny = cv2.Canny(img, 20, 120)\n",
        "cv2.imshow('Canny Edge', canny)\n",
        "cv2.waitKey(0)\n",
        "\n",
        "cv2.destroyAllWindows()"
      ],
      "execution_count": 0,
      "outputs": []
    }
  ]
}