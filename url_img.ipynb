{
  "nbformat": 4,
  "nbformat_minor": 0,
  "metadata": {
    "colab": {
      "name": "url_img.ipynb",
      "version": "0.3.2",
      "provenance": []
    },
    "kernelspec": {
      "name": "python3",
      "display_name": "Python 3"
    }
  },
  "cells": [
    {
      "metadata": {
        "id": "JOt8EX0cFmMU",
        "colab_type": "text"
      },
      "cell_type": "markdown",
      "source": [
        "**TO LOAD AND DISPLAY IMAGE OR URL**"
      ]
    },
    {
      "metadata": {
        "id": "fdEXNuseFv7V",
        "colab_type": "code",
        "colab": {}
      },
      "cell_type": "code",
      "source": [
        "import cv2\n",
        "import numpy as np\n",
        "import urllib.request"
      ],
      "execution_count": 0,
      "outputs": []
    },
    {
      "metadata": {
        "id": "CzGujwiEFi6e",
        "colab_type": "code",
        "colab": {}
      },
      "cell_type": "code",
      "source": [
        "req = urllib.request.urlopen('https://s26162.pcdn.co/wp-content/uploads/2018/10/588730354.jpg')\n",
        "arr = np.asarray(bytearray(req.read()), dtype = np.uint8)\n",
        "\n",
        "img = cv2.imdecode(arr,1) # load it as it is\n",
        "img = cv2.imdecode(arr,0) # load it in gray scale\n",
        "\n",
        "cv2.imshow('lalala', img)\n",
        "cv2.waitKey(0)\n",
        "cv2.destroyAllWindows()"
      ],
      "execution_count": 0,
      "outputs": []
    }
  ]
}