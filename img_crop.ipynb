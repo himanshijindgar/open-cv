{
  "nbformat": 4,
  "nbformat_minor": 0,
  "metadata": {
    "colab": {
      "name": "img_crop.ipynb",
      "version": "0.3.2",
      "provenance": []
    },
    "kernelspec": {
      "name": "python3",
      "display_name": "Python 3"
    }
  },
  "cells": [
    {
      "metadata": {
        "id": "AhXq9HW2G0Pj",
        "colab_type": "text"
      },
      "cell_type": "markdown",
      "source": [
        "**IMAGE CROPPING**"
      ]
    },
    {
      "metadata": {
        "id": "a0Ui-eNJGz_T",
        "colab_type": "code",
        "colab": {}
      },
      "cell_type": "code",
      "source": [
        "import cv2\n",
        "import numpy as np"
      ],
      "execution_count": 0,
      "outputs": []
    },
    {
      "metadata": {
        "id": "JpECLnZJGzAS",
        "colab_type": "code",
        "colab": {}
      },
      "cell_type": "code",
      "source": [
        "img = cv2.imread(\"C:/Users/Ashish/Pictures/friends.jpeg\")\n",
        "\n",
        "height, width = img.shape[:2]\n",
        "start_row, start_col = int(height*.25), int(width*.25)\n",
        "end_row, end_col = int(height*.75), int(width*.75)\n",
        "\n",
        "cropped = img[start_row:end_row, start_col:end_col]\n",
        "\n",
        "cv2.imshow('Original', img)\n",
        "cv2.waitKey(0)\n",
        "\n",
        "cv2.imshow('Cropped', cropped)\n",
        "cv2.waitKey(0)\n",
        "cv2.destroyAllWindows()"
      ],
      "execution_count": 0,
      "outputs": []
    }
  ]
}