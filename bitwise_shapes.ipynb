{
  "nbformat": 4,
  "nbformat_minor": 0,
  "metadata": {
    "colab": {
      "name": "bitwise_shapes.ipynb",
      "version": "0.3.2",
      "provenance": []
    },
    "kernelspec": {
      "name": "python3",
      "display_name": "Python 3"
    }
  },
  "cells": [
    {
      "metadata": {
        "id": "ywGt7HC0HMBh",
        "colab_type": "text"
      },
      "cell_type": "markdown",
      "source": [
        "**TO DISPLAY SHAPES**"
      ]
    },
    {
      "metadata": {
        "id": "yJAsZdThHLxs",
        "colab_type": "code",
        "colab": {}
      },
      "cell_type": "code",
      "source": [
        "import cv2\n",
        "import numpy as np"
      ],
      "execution_count": 0,
      "outputs": []
    },
    {
      "metadata": {
        "id": "dM5BrZSaHHwz",
        "colab_type": "code",
        "colab": {}
      },
      "cell_type": "code",
      "source": [
        "square = np.zeros((300,300), np.uint8)\n",
        "cv2.rectangle(square, (50,50), (250,250),255,-1)\n",
        "cv2.imshow(\"square\", square)\n",
        "cv2.waitKey(0)\n",
        "\n",
        "#making an ellipse\n",
        "\n",
        "ellipse = np.zeros((300,300), np.uint8)\n",
        "cv2.ellipse(ellipse, (150,150), (150,150), 30, 0 ,180, 255, -1)\n",
        "cv2.imshow(\"ellipse\", ellipse)\n",
        "cv2.waitKey(0)\n",
        "\n",
        "And = cv2.bitwise_and(square, ellipse)\n",
        "cv2.imshow(\"AND\", And)\n",
        "cv2.waitKey(0)\n",
        "\n",
        "Or = cv2.bitwise_or(square, ellipse)\n",
        "cv2.imshow(\"OR\", Or)\n",
        "cv2.waitKey(0)\n",
        "\n",
        "Xor = cv2.bitwise_xor(square, ellipse)\n",
        "cv2.imshow(\"XOR\", Xor)\n",
        "cv2.waitKey(0)\n",
        "\n",
        "Not = cv2.bitwise_not(square)\n",
        "cv2.imshow(\"NOT\", Not)\n",
        "cv2.waitKey(0)\n",
        "\n",
        "cv2.destroyAllWindows()"
      ],
      "execution_count": 0,
      "outputs": []
    }
  ]
}