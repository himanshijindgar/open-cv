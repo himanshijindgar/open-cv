{
  "nbformat": 4,
  "nbformat_minor": 0,
  "metadata": {
    "colab": {
      "name": "circle_mouse.ipynb",
      "version": "0.3.2",
      "provenance": []
    },
    "kernelspec": {
      "name": "python3",
      "display_name": "Python 3"
    }
  },
  "cells": [
    {
      "metadata": {
        "id": "E9zkxP72GYKj",
        "colab_type": "text"
      },
      "cell_type": "markdown",
      "source": [
        "**TO DRAW CIRCLES MANUALLY**"
      ]
    },
    {
      "metadata": {
        "id": "K-6pEpjWGXQp",
        "colab_type": "code",
        "colab": {}
      },
      "cell_type": "code",
      "source": [
        "import cv2\n",
        "import numpy as np\n",
        "# ASCII CODE OF ESC = 27"
      ],
      "execution_count": 0,
      "outputs": []
    },
    {
      "metadata": {
        "id": "3fNfwJE8GRLL",
        "colab_type": "code",
        "colab": {}
      },
      "cell_type": "code",
      "source": [
        "WindowName = 'Drawing'\n",
        "img = np.zeros((250, 250, 3), np.uint8)\n",
        "cv2.namedWindow(WindowName)\n",
        "\n",
        "def draw_circle(event, x, y, flags, para):\n",
        "    if event == cv2.EVENT_LBUTTONDBLCLK:\n",
        "        cv2.circle(img, (x,y), 40, (0, 255, 0), -1)\n",
        "    if event == cv2.EVENT_RBUTTONDOWN:\n",
        "        cv2.circle(img, (x,y), 20, (0, 0, 255), -1)\n",
        "    if event == cv2.EVENT_LBUTTONDOWN:\n",
        "        cv2.circle(img, (x,y), 30, (89, 174, 145), -1)\n",
        "        \n",
        "cv2.setMouseCallback(WindowName,draw_circle)        \n",
        "\n",
        "while(True):\n",
        "    cv2.imshow(WindowName, img)\n",
        "    if cv2.waitKey(20) == 27:        # or cv2.waitKey(20) == ord('q'):\n",
        "        break\n",
        "        \n",
        "cv2.destroyAllWindows()  "
      ],
      "execution_count": 0,
      "outputs": []
    }
  ]
}