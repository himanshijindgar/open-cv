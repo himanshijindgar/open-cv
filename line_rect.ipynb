{
  "nbformat": 4,
  "nbformat_minor": 0,
  "metadata": {
    "colab": {
      "name": "line_rect.ipynb",
      "version": "0.3.2",
      "provenance": []
    },
    "kernelspec": {
      "name": "python3",
      "display_name": "Python 3"
    }
  },
  "cells": [
    {
      "metadata": {
        "id": "0j8BHB_EDDrs",
        "colab_type": "text"
      },
      "cell_type": "markdown",
      "source": [
        "**To display Line and Rectangle**"
      ]
    },
    {
      "metadata": {
        "id": "_H1qtvAhDjxR",
        "colab_type": "code",
        "colab": {}
      },
      "cell_type": "code",
      "source": [
        "import cv2\n",
        "import numpy as np"
      ],
      "execution_count": 0,
      "outputs": []
    },
    {
      "metadata": {
        "id": "6tNSG7amC-KC",
        "colab_type": "code",
        "colab": {}
      },
      "cell_type": "code",
      "source": [
        "img = np.zeros((512,512,3), np.uint8)\n",
        "\n",
        "cv2.imshow('Original Image', img)\n",
        "\n",
        "cv2.line(img, (0,0), (511,511), (0,0,255), 5)\n",
        "cv2.rectangle(img, (11,11), (300,250),(0,255,255),20)\n",
        "\n",
        "cv2.imshow('Blue line', img)\n",
        "cv2.waitKey(0)\n",
        "cv2.destroyAllWindows()"
      ],
      "execution_count": 0,
      "outputs": []
    }
  ]
}